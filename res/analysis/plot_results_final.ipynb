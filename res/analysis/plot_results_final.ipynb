{
 "cells": [
  {
   "cell_type": "code",
   "execution_count": 6,
   "metadata": {
    "collapsed": true
   },
   "outputs": [],
   "source": [
    "import os\n",
    "import pandas as pd\n",
    "from running_paths import *"
   ]
  },
  {
   "cell_type": "markdown",
   "metadata": {},
   "source": [
    "# Part1"
   ]
  },
  {
   "cell_type": "code",
   "execution_count": 13,
   "metadata": {
    "collapsed": false
   },
   "outputs": [],
   "source": [
    "p1_dfs_raw = []\n",
    "for pth in part1_paths:\n",
    "    pth = os.path.join(\"/opt/logs/part1\", pth, \"top\", \"results_firms.csv\")\n",
    "    p1_dfs_raw.append(pd.read_csv(pth))\n",
    " \n",
    "p1_dfs = [{\n",
    "    \"comb-data\":   df[(df.feat_type == \"combined\") & (df.inp_type == \"combined\")],\n",
    "    \"comb-nodata\": df[(df.feat_type == \"multi\") & (df.inp_type == \"combined\")],\n",
    "    \"neig-data\":   df[(df.feat_type == \"combined\") & (df.inp_type == \"neighbors\")],\n",
    "    \"neig-nodata\": df[(df.feat_type == \"multi\") & (df.inp_type == \"neighbors\")],\n",
    "} for df in p1_dfs_raw]\n"
   ]
  },
  {
   "cell_type": "markdown",
   "metadata": {},
   "source": [
    "# Part2"
   ]
  },
  {
   "cell_type": "code",
   "execution_count": 16,
   "metadata": {
    "collapsed": true
   },
   "outputs": [],
   "source": [
    "p2_dfs_raw = []\n",
    "for pth in part2_paths:\n",
    "    pth = os.path.join(\"/opt/logs/part2\", pth, \"top\", \"results_firms.csv\")\n",
    "    p2_dfs_raw.append(pd.read_csv(pth))\n",
    "    \n",
    "p2_dfs = [{\n",
    "    \"comb-data\":   df[df.feat_type == \"combined\"],\n",
    "    \"comb-nodata\":   df[df.feat_type == \"multi\"],\n",
    "} for df in p2_dfs_raw]"
   ]
  },
  {
   "cell_type": "markdown",
   "metadata": {},
   "source": [
    "# Part3"
   ]
  },
  {
   "cell_type": "code",
   "execution_count": 10,
   "metadata": {
    "collapsed": true
   },
   "outputs": [],
   "source": [
    "p3_dfs = []\n",
    "for pth in part3_paths:\n",
    "    pth = os.path.join(\"/opt/logs/part3\", pth, \"top\", \"results_firms.csv\")\n",
    "    p3_dfs.append(pd.read_csv(pth))"
   ]
  },
  {
   "cell_type": "markdown",
   "metadata": {},
   "source": [
    "# Part4"
   ]
  },
  {
   "cell_type": "code",
   "execution_count": 15,
   "metadata": {
    "collapsed": true
   },
   "outputs": [],
   "source": [
    "p4_dfs_raw = []\n",
    "for pth in part4_paths:\n",
    "    pth = os.path.join(\"/opt/logs/part4\", pth, \"top\", \"results_firms.csv\")\n",
    "    p4_dfs_raw.append(pd.read_csv(pth))\n",
    "    \n",
    "p4_dfs = [{\n",
    "    epoch:   df[df.epoch == epoch] for epoch in set(df.epoch)\n",
    "} for df in p4_dfs_raw]\n",
    "\n",
    "last_df4 = [df.pop('None', None) for df in p4_dfs]"
   ]
  }
 ],
 "metadata": {
  "kernelspec": {
   "display_name": "Python 3",
   "language": "python",
   "name": "python3"
  },
  "language_info": {
   "codemirror_mode": {
    "name": "ipython",
    "version": 3
   },
   "file_extension": ".py",
   "mimetype": "text/x-python",
   "name": "python",
   "nbconvert_exporter": "python",
   "pygments_lexer": "ipython3",
   "version": "3.6.5"
  }
 },
 "nbformat": 4,
 "nbformat_minor": 2
}
